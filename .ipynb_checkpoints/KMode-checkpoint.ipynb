{
 "cells": [
  {
   "cell_type": "code",
   "execution_count": 1,
   "metadata": {},
   "outputs": [],
   "source": [
    "import numpy as np\n",
    "import pandas as pd\n",
    "import csv"
   ]
  },
  {
   "cell_type": "code",
   "execution_count": 2,
   "metadata": {},
   "outputs": [
    {
     "data": {
      "text/html": [
       "<div>\n",
       "<style scoped>\n",
       "    .dataframe tbody tr th:only-of-type {\n",
       "        vertical-align: middle;\n",
       "    }\n",
       "\n",
       "    .dataframe tbody tr th {\n",
       "        vertical-align: top;\n",
       "    }\n",
       "\n",
       "    .dataframe thead th {\n",
       "        text-align: right;\n",
       "    }\n",
       "</style>\n",
       "<table border=\"1\" class=\"dataframe\">\n",
       "  <thead>\n",
       "    <tr style=\"text-align: right;\">\n",
       "      <th></th>\n",
       "      <th>class</th>\n",
       "      <th>cap-shape</th>\n",
       "      <th>cap-surface</th>\n",
       "      <th>cap-color</th>\n",
       "      <th>bruises</th>\n",
       "    </tr>\n",
       "  </thead>\n",
       "  <tbody>\n",
       "    <tr>\n",
       "      <th>0</th>\n",
       "      <td>p</td>\n",
       "      <td>x</td>\n",
       "      <td>s</td>\n",
       "      <td>n</td>\n",
       "      <td>t</td>\n",
       "    </tr>\n",
       "    <tr>\n",
       "      <th>1</th>\n",
       "      <td>e</td>\n",
       "      <td>x</td>\n",
       "      <td>s</td>\n",
       "      <td>y</td>\n",
       "      <td>t</td>\n",
       "    </tr>\n",
       "    <tr>\n",
       "      <th>2</th>\n",
       "      <td>e</td>\n",
       "      <td>b</td>\n",
       "      <td>s</td>\n",
       "      <td>w</td>\n",
       "      <td>t</td>\n",
       "    </tr>\n",
       "    <tr>\n",
       "      <th>3</th>\n",
       "      <td>p</td>\n",
       "      <td>x</td>\n",
       "      <td>y</td>\n",
       "      <td>w</td>\n",
       "      <td>t</td>\n",
       "    </tr>\n",
       "    <tr>\n",
       "      <th>4</th>\n",
       "      <td>e</td>\n",
       "      <td>x</td>\n",
       "      <td>s</td>\n",
       "      <td>g</td>\n",
       "      <td>f</td>\n",
       "    </tr>\n",
       "  </tbody>\n",
       "</table>\n",
       "</div>"
      ],
      "text/plain": [
       "  class cap-shape cap-surface cap-color bruises\n",
       "0     p         x           s         n       t\n",
       "1     e         x           s         y       t\n",
       "2     e         b           s         w       t\n",
       "3     p         x           y         w       t\n",
       "4     e         x           s         g       f"
      ]
     },
     "execution_count": 2,
     "metadata": {},
     "output_type": "execute_result"
    }
   ],
   "source": [
    "# read data\n",
    "df = pd.read_csv(\"mushrooms.csv\", encoding='cp949')\n",
    "df = df.iloc[0:20,0:5]\n",
    "df.head()"
   ]
  },
  {
   "cell_type": "code",
   "execution_count": 3,
   "metadata": {},
   "outputs": [],
   "source": [
    "# n_clusters :클러스터 개수\n",
    "# n_init : 초기 중심값 시도 횟수\n",
    "# max_iter : 최대 반복 횟수\n",
    "# random_state : 시드값 "
   ]
  },
  {
   "cell_type": "code",
   "execution_count": 4,
   "metadata": {},
   "outputs": [],
   "source": [
    "k = 3"
   ]
  },
  {
   "cell_type": "code",
   "execution_count": 5,
   "metadata": {},
   "outputs": [],
   "source": [
    "initial_cluster = [2,4,6]"
   ]
  },
  {
   "cell_type": "code",
   "execution_count": 6,
   "metadata": {},
   "outputs": [],
   "source": [
    "mode_vectors =[]\n",
    "\n",
    "mode_vectors.append(df.loc[2])\n",
    "mode_vectors.append(df.loc[4])\n",
    "mode_vectors.append(df.loc[6])"
   ]
  },
  {
   "cell_type": "code",
   "execution_count": 7,
   "metadata": {},
   "outputs": [
    {
     "data": {
      "text/plain": [
       "[class          e\n",
       " cap-shape      b\n",
       " cap-surface    s\n",
       " cap-color      w\n",
       " bruises        t\n",
       " Name: 2, dtype: object, class          e\n",
       " cap-shape      x\n",
       " cap-surface    s\n",
       " cap-color      g\n",
       " bruises        f\n",
       " Name: 4, dtype: object, class          e\n",
       " cap-shape      b\n",
       " cap-surface    s\n",
       " cap-color      w\n",
       " bruises        t\n",
       " Name: 6, dtype: object]"
      ]
     },
     "execution_count": 7,
     "metadata": {},
     "output_type": "execute_result"
    }
   ],
   "source": [
    "mode_vectors"
   ]
  },
  {
   "cell_type": "code",
   "execution_count": 8,
   "metadata": {},
   "outputs": [],
   "source": [
    "initclusters =[]\n",
    "initclusters.append(pd.DataFrame(columns = df.columns))\n",
    "initclusters.append(pd.DataFrame(columns = df.columns))\n",
    "initclusters.append(pd.DataFrame(columns = df.columns))\n",
    "\n",
    "clusters = initclusters.copy()"
   ]
  },
  {
   "cell_type": "code",
   "execution_count": 9,
   "metadata": {},
   "outputs": [
    {
     "data": {
      "text/plain": [
       "[class          e\n",
       " cap-shape      b\n",
       " cap-surface    s\n",
       " cap-color      w\n",
       " bruises        t\n",
       " Name: 2, dtype: object, class          e\n",
       " cap-shape      x\n",
       " cap-surface    s\n",
       " cap-color      g\n",
       " bruises        f\n",
       " Name: 4, dtype: object, class          e\n",
       " cap-shape      b\n",
       " cap-surface    s\n",
       " cap-color      w\n",
       " bruises        t\n",
       " Name: 6, dtype: object]"
      ]
     },
     "execution_count": 9,
     "metadata": {},
     "output_type": "execute_result"
    }
   ],
   "source": [
    "mode_vectors"
   ]
  },
  {
   "cell_type": "code",
   "execution_count": 10,
   "metadata": {},
   "outputs": [],
   "source": [
    "initdistance = []\n",
    "initdistance.append(0)\n",
    "initdistance.append(0)\n",
    "initdistance.append(0)\n",
    "\n",
    "distance = initdistance.copy()"
   ]
  },
  {
   "cell_type": "code",
   "execution_count": 11,
   "metadata": {},
   "outputs": [],
   "source": [
    "def distanceForSame(cluster,col, instance_value):\n",
    "    if (len(cluster) == 0):\n",
    "        return 0\n",
    "    \n",
    "    frequency = len(cluster[cluster[col] == instance_value]) + 1\n",
    "    total_num = len(cluster) + 1\n",
    "    return 1-(frequency/total_num)"
   ]
  },
  {
   "cell_type": "code",
   "execution_count": 12,
   "metadata": {},
   "outputs": [],
   "source": [
    "# 모드벡터랑 선 비교"
   ]
  },
  {
   "cell_type": "code",
   "execution_count": 13,
   "metadata": {},
   "outputs": [],
   "source": [
    "# 구현해야될 기능1\n",
    "# inpurt:  vector, DataFrame\n",
    "# output: distance\n",
    "\n",
    "# vector하나랑 DataFrame과의 DIstance구하기\n",
    "# vector의 값을 빼내서 column만큼 반복해서 distance구하기"
   ]
  },
  {
   "cell_type": "code",
   "execution_count": 14,
   "metadata": {},
   "outputs": [],
   "source": [
    "# 클러스터 1개에 대해서 distance를 구하는 함수\n",
    "\n",
    "def getDistance(c_num, distance):\n",
    "    # 해당 클러스터의 모드 벡터\n",
    "    mode_vector = mode_vectors[c_num]\n",
    "\n",
    "    for col in instance.index:\n",
    "        # 같으면 cluster를 참조해서 distance구하기 \n",
    "        if(mode_vector[col] == instance[col]):\n",
    "            same_dist =  distanceForSame(clusters[c_num], col, instance[col])\n",
    "            distance[c_num] = distance[c_num] + same_dist\n",
    "        # 다르면 distance는 1 \n",
    "        else:\n",
    "            distance[c_num] = distance[c_num] + 1\n",
    "\n",
    "    return distance"
   ]
  },
  {
   "cell_type": "code",
   "execution_count": 15,
   "metadata": {},
   "outputs": [],
   "source": [
    "# 가장 작은 distance의 index를 구해줌\n",
    "# 고려사항: distance가 같을 경우 >> 크기가 작은 클러스터로?\n",
    "def getMinIndex (distance):\n",
    "    return distance.index(min(distance))"
   ]
  },
  {
   "cell_type": "code",
   "execution_count": 16,
   "metadata": {},
   "outputs": [],
   "source": [
    "for i in range(20):\n",
    "    instance = df.loc[i]\n",
    "    for i in range(len(clusters)):\n",
    "        getDistance(i, distance)\n",
    "        \n",
    "    min_index = getMinIndex(distance)\n",
    "    distance = initdistance.copy()\n",
    "    \n",
    "    clusters[min_index] = clusters[min_index].append(instance)"
   ]
  },
  {
   "cell_type": "code",
   "execution_count": 17,
   "metadata": {},
   "outputs": [
    {
     "data": {
      "text/plain": [
       "class          e\n",
       "cap-shape      b\n",
       "cap-surface    s\n",
       "cap-color      w\n",
       "bruises        t\n",
       "Name: 2, dtype: object"
      ]
     },
     "execution_count": 17,
     "metadata": {},
     "output_type": "execute_result"
    }
   ],
   "source": [
    "instance = df.loc[2]\n",
    "instance"
   ]
  },
  {
   "cell_type": "code",
   "execution_count": 18,
   "metadata": {},
   "outputs": [
    {
     "data": {
      "text/plain": [
       "[1.8333333333333335, 3.625, 1.777777777777778]"
      ]
     },
     "execution_count": 18,
     "metadata": {},
     "output_type": "execute_result"
    }
   ],
   "source": [
    "for i in range(len(clusters)):\n",
    "    getDistance(i, distance)\n",
    "distance"
   ]
  },
  {
   "cell_type": "code",
   "execution_count": 19,
   "metadata": {},
   "outputs": [
    {
     "data": {
      "text/plain": [
       "2"
      ]
     },
     "execution_count": 19,
     "metadata": {},
     "output_type": "execute_result"
    }
   ],
   "source": [
    "min_index = getMinIndex(distance)\n",
    "distance = initdistance.copy()\n",
    "min_index"
   ]
  },
  {
   "cell_type": "code",
   "execution_count": 20,
   "metadata": {},
   "outputs": [
    {
     "data": {
      "text/html": [
       "<div>\n",
       "<style scoped>\n",
       "    .dataframe tbody tr th:only-of-type {\n",
       "        vertical-align: middle;\n",
       "    }\n",
       "\n",
       "    .dataframe tbody tr th {\n",
       "        vertical-align: top;\n",
       "    }\n",
       "\n",
       "    .dataframe thead th {\n",
       "        text-align: right;\n",
       "    }\n",
       "</style>\n",
       "<table border=\"1\" class=\"dataframe\">\n",
       "  <thead>\n",
       "    <tr style=\"text-align: right;\">\n",
       "      <th></th>\n",
       "      <th>class</th>\n",
       "      <th>cap-shape</th>\n",
       "      <th>cap-surface</th>\n",
       "      <th>cap-color</th>\n",
       "      <th>bruises</th>\n",
       "    </tr>\n",
       "  </thead>\n",
       "  <tbody>\n",
       "    <tr>\n",
       "      <th>2</th>\n",
       "      <td>e</td>\n",
       "      <td>b</td>\n",
       "      <td>s</td>\n",
       "      <td>w</td>\n",
       "      <td>t</td>\n",
       "    </tr>\n",
       "    <tr>\n",
       "      <th>3</th>\n",
       "      <td>p</td>\n",
       "      <td>x</td>\n",
       "      <td>y</td>\n",
       "      <td>w</td>\n",
       "      <td>t</td>\n",
       "    </tr>\n",
       "    <tr>\n",
       "      <th>6</th>\n",
       "      <td>e</td>\n",
       "      <td>b</td>\n",
       "      <td>s</td>\n",
       "      <td>w</td>\n",
       "      <td>t</td>\n",
       "    </tr>\n",
       "    <tr>\n",
       "      <th>7</th>\n",
       "      <td>e</td>\n",
       "      <td>b</td>\n",
       "      <td>y</td>\n",
       "      <td>w</td>\n",
       "      <td>t</td>\n",
       "    </tr>\n",
       "    <tr>\n",
       "      <th>8</th>\n",
       "      <td>p</td>\n",
       "      <td>x</td>\n",
       "      <td>y</td>\n",
       "      <td>w</td>\n",
       "      <td>t</td>\n",
       "    </tr>\n",
       "    <tr>\n",
       "      <th>13</th>\n",
       "      <td>p</td>\n",
       "      <td>x</td>\n",
       "      <td>y</td>\n",
       "      <td>w</td>\n",
       "      <td>t</td>\n",
       "    </tr>\n",
       "    <tr>\n",
       "      <th>16</th>\n",
       "      <td>e</td>\n",
       "      <td>f</td>\n",
       "      <td>f</td>\n",
       "      <td>w</td>\n",
       "      <td>f</td>\n",
       "    </tr>\n",
       "    <tr>\n",
       "      <th>18</th>\n",
       "      <td>p</td>\n",
       "      <td>x</td>\n",
       "      <td>y</td>\n",
       "      <td>w</td>\n",
       "      <td>t</td>\n",
       "    </tr>\n",
       "    <tr>\n",
       "      <th>2</th>\n",
       "      <td>e</td>\n",
       "      <td>b</td>\n",
       "      <td>s</td>\n",
       "      <td>w</td>\n",
       "      <td>t</td>\n",
       "    </tr>\n",
       "  </tbody>\n",
       "</table>\n",
       "</div>"
      ],
      "text/plain": [
       "   class cap-shape cap-surface cap-color bruises\n",
       "2      e         b           s         w       t\n",
       "3      p         x           y         w       t\n",
       "6      e         b           s         w       t\n",
       "7      e         b           y         w       t\n",
       "8      p         x           y         w       t\n",
       "13     p         x           y         w       t\n",
       "16     e         f           f         w       f\n",
       "18     p         x           y         w       t\n",
       "2      e         b           s         w       t"
      ]
     },
     "execution_count": 20,
     "metadata": {},
     "output_type": "execute_result"
    }
   ],
   "source": [
    "clusters[min_index] = clusters[min_index].append(instance)\n",
    "clusters[min_index]"
   ]
  },
  {
   "cell_type": "code",
   "execution_count": 21,
   "metadata": {},
   "outputs": [],
   "source": [
    "#######################################################"
   ]
  },
  {
   "cell_type": "code",
   "execution_count": 22,
   "metadata": {},
   "outputs": [],
   "source": [
    "# 모드벡터 업데이트\n",
    "def updateModeVector(index, clusters, mode_vectors):\n",
    "    mode_vectors[index] = clusters[index].mode().loc[0]\n",
    "    return mode_vectors"
   ]
  },
  {
   "cell_type": "code",
   "execution_count": 23,
   "metadata": {},
   "outputs": [],
   "source": [
    "mode_vectors = updateModeVector(2, clusters, mode_vectors)"
   ]
  },
  {
   "cell_type": "code",
   "execution_count": 24,
   "metadata": {},
   "outputs": [],
   "source": [
    "#######################################################"
   ]
  },
  {
   "cell_type": "code",
   "execution_count": 25,
   "metadata": {},
   "outputs": [],
   "source": [
    "# Mode vector 업데이트"
   ]
  },
  {
   "cell_type": "code",
   "execution_count": 26,
   "metadata": {},
   "outputs": [],
   "source": [
    "# 초기 선언\n",
    "k = 3\n",
    "initial_cluster = [2,4,6]\n",
    "\n",
    "mode_vectors =[]\n",
    "mode_vectors.append(df.loc[2])\n",
    "mode_vectors.append(df.loc[4])\n",
    "mode_vectors.append(df.loc[6])\n",
    "\n",
    "initclusters =[]\n",
    "initdistance = []\n",
    "for i in range(k):\n",
    "    initclusters.append(pd.DataFrame(columns = df.columns))\n",
    "    initdistance.append(0)"
   ]
  },
  {
   "cell_type": "code",
   "execution_count": 27,
   "metadata": {},
   "outputs": [],
   "source": [
    "# 초기상태 저장\n",
    "\n",
    "# Iterate\n",
    "clusters = initclusters.copy()\n",
    "\n",
    "# 각 instance를 가까운 클러스터에 할당 \n",
    "for i in range(len(df)):\n",
    "\n",
    "    instance = df.loc[i]\n",
    "     \n",
    "    # 각 클러스터에 대한 distance를 구함 \n",
    "    for i in range(len(clusters)):\n",
    "        distance = getDistance(i, distance)\n",
    "\n",
    "    min_index = getMinIndex(distance)\n",
    "    distance = initdistance.copy()\n",
    "        \n",
    "    # 해당 클러스터에 추가 \n",
    "    clusters[min_index] = clusters[min_index].append(instance)\n",
    "\n",
    "    # 모드벡터 업데이트\n",
    "    mode_vectors = updateModeVector(min_index, clusters, mode_vectors)\n",
    "    "
   ]
  },
  {
   "cell_type": "code",
   "execution_count": 28,
   "metadata": {},
   "outputs": [],
   "source": [
    "# 클러스터가 변함이 없는지 확인\n",
    "# 변함 없으면 cluster 종료!"
   ]
  },
  {
   "cell_type": "code",
   "execution_count": null,
   "metadata": {},
   "outputs": [],
   "source": []
  },
  {
   "cell_type": "code",
   "execution_count": null,
   "metadata": {},
   "outputs": [],
   "source": []
  },
  {
   "cell_type": "code",
   "execution_count": null,
   "metadata": {},
   "outputs": [],
   "source": [
    "num = 0\n",
    "\n",
    "mode_vector = mode_vectors[num]\n",
    "\n",
    "for col in instance.index:\n",
    "    # 같으면 cluster를 참조해서 distance구하기 \n",
    "    if(mode_vector[col] == instance[col]):\n",
    "        if (len(clusters[num]) == 0):\n",
    "            continue\n",
    "        else:\n",
    "            same_dist = distanceForSame(clusters[num][col], instance[col])\n",
    "            distance[num] = distance[num] + same_dist\n",
    "    # 다르면 distance는 1 \n",
    "    else:\n",
    "        distance[num] = distance[num] + 1\n",
    "\n",
    "distance"
   ]
  }
 ],
 "metadata": {
  "kernelspec": {
   "display_name": "Python 3",
   "language": "python",
   "name": "python3"
  },
  "language_info": {
   "codemirror_mode": {
    "name": "ipython",
    "version": 3
   },
   "file_extension": ".py",
   "mimetype": "text/x-python",
   "name": "python",
   "nbconvert_exporter": "python",
   "pygments_lexer": "ipython3",
   "version": "3.7.3"
  }
 },
 "nbformat": 4,
 "nbformat_minor": 2
}
