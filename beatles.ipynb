{
 "cells": [
  {
   "cell_type": "code",
   "execution_count": 1,
   "metadata": {},
   "outputs": [],
   "source": [
    "import numpy as np\n",
    "import pandas as pd\n",
    "import re\n",
    "from sklearn.feature_extraction.text import CountVectorizer \n",
    "from sklearn.feature_extraction.text import TfidfTransformer "
   ]
  },
  {
   "cell_type": "code",
   "execution_count": 2,
   "metadata": {},
   "outputs": [],
   "source": [
    "# read the entire text file and divides it by the sentance.\n",
    "sentences = list()\n",
    "with open(\"beatles_biography.txt\") as file:\n",
    "    for line in file:\n",
    "        # The point where the sentence ends\n",
    "        for l in re.split(r\"\\.\\s|\\?\\s|\\!\\s|\\n\",line): \n",
    "            if l: \n",
    "                sentences.append(l) "
   ]
  },
  {
   "cell_type": "code",
   "execution_count": 3,
   "metadata": {
    "scrolled": false
   },
   "outputs": [
    {
     "data": {
      "text/plain": [
       "116"
      ]
     },
     "execution_count": 3,
     "metadata": {},
     "output_type": "execute_result"
    }
   ],
   "source": [
    "len(sentences)"
   ]
  },
  {
   "cell_type": "code",
   "execution_count": 11,
   "metadata": {},
   "outputs": [
    {
     "data": {
      "text/plain": [
       "['English rock and roll band',\n",
       " 'In the 1960s a new band known as the Beatles burst on the pop music scene and changed it forever',\n",
       " 'Band members included George Harrison (1943?2001), John Lennon (1940?1980), Paul McCartney (1942?), and Ringo Starr (1940?)',\n",
       " 'With the release of three anthologies (collections) in the mid-1990s, the Beatles remain one of the best-selling musical groups of all time',\n",
       " 'Early days',\n",
       " 'The Beatles came from Liverpool, England, and were originally inspired by the simple guitar-and-washboard style \"skiffle\" music',\n",
       " 'Skiffle was a lively type of acoustic (nonelectric) music that used songs from British and American folk and popular music',\n",
       " 'Later such U.S',\n",
       " 'pop artists as Elvis Presley (1935?1977), Buddy Holly (1936?1959), and Little Richard (1932?) influenced them',\n",
       " 'All four members of the Beatles had an early interest in music']"
      ]
     },
     "execution_count": 11,
     "metadata": {},
     "output_type": "execute_result"
    }
   ],
   "source": [
    "sentences[0:10]"
   ]
  },
  {
   "cell_type": "code",
   "execution_count": 5,
   "metadata": {},
   "outputs": [],
   "source": [
    "# Eliminate stop words, consider only between min_df and max_df\n",
    "cvec = CountVectorizer(stop_words='english', min_df=3, \n",
    "                       max_df=0.5, ngram_range=(1,2))\n",
    "sf = cvec.fit_transform(sentences)"
   ]
  },
  {
   "cell_type": "code",
   "execution_count": 15,
   "metadata": {},
   "outputs": [
    {
     "name": "stdout",
     "output_type": "stream",
     "text": [
      "  (0, 7)\t1\n",
      "  (0, 46)\t1\n",
      "  (0, 47)\t1\n",
      "  (0, 48)\t1\n"
     ]
    }
   ],
   "source": [
    "print(sf[0])"
   ]
  },
  {
   "cell_type": "code",
   "execution_count": 18,
   "metadata": {},
   "outputs": [
    {
     "data": {
      "text/plain": [
       "['1964', '1968', '1970', 'album', 'albums']"
      ]
     },
     "execution_count": 18,
     "metadata": {},
     "output_type": "execute_result"
    }
   ],
   "source": [
    "cvec.get_feature_names()[0:5]"
   ]
  },
  {
   "cell_type": "code",
   "execution_count": 7,
   "metadata": {},
   "outputs": [],
   "source": [
    "# Transforming it with idf weight\n",
    "transformer = TfidfTransformer() \n",
    "transformed_weights = transformer.fit_transform(sf) "
   ]
  },
  {
   "cell_type": "code",
   "execution_count": 16,
   "metadata": {},
   "outputs": [
    {
     "name": "stdout",
     "output_type": "stream",
     "text": [
      "  (0, 48)\t0.5157629658743857\n",
      "  (0, 47)\t0.5157629658743857\n",
      "  (0, 46)\t0.5157629658743857\n",
      "  (0, 7)\t0.4494059290856895\n"
     ]
    }
   ],
   "source": [
    "print(transformed_weights[0])"
   ]
  },
  {
   "cell_type": "code",
   "execution_count": 9,
   "metadata": {},
   "outputs": [],
   "source": [
    "weights = np.asarray(transformed_weights.mean(axis=0)).ravel().tolist() \n",
    "weights_df = pd.DataFrame({'term': cvec.get_feature_names(), 'weight': weights}) "
   ]
  },
  {
   "cell_type": "code",
   "execution_count": 10,
   "metadata": {},
   "outputs": [
    {
     "data": {
      "text/html": [
       "<div>\n",
       "<style scoped>\n",
       "    .dataframe tbody tr th:only-of-type {\n",
       "        vertical-align: middle;\n",
       "    }\n",
       "\n",
       "    .dataframe tbody tr th {\n",
       "        vertical-align: top;\n",
       "    }\n",
       "\n",
       "    .dataframe thead th {\n",
       "        text-align: right;\n",
       "    }\n",
       "</style>\n",
       "<table border=\"1\" class=\"dataframe\">\n",
       "  <thead>\n",
       "    <tr style=\"text-align: right;\">\n",
       "      <th></th>\n",
       "      <th>term</th>\n",
       "      <th>weight</th>\n",
       "    </tr>\n",
       "  </thead>\n",
       "  <tbody>\n",
       "    <tr>\n",
       "      <th>8</th>\n",
       "      <td>beatles</td>\n",
       "      <td>0.150009</td>\n",
       "    </tr>\n",
       "    <tr>\n",
       "      <th>3</th>\n",
       "      <td>album</td>\n",
       "      <td>0.055008</td>\n",
       "    </tr>\n",
       "    <tr>\n",
       "      <th>26</th>\n",
       "      <td>lennon</td>\n",
       "      <td>0.054275</td>\n",
       "    </tr>\n",
       "    <tr>\n",
       "      <th>51</th>\n",
       "      <td>songs</td>\n",
       "      <td>0.051386</td>\n",
       "    </tr>\n",
       "    <tr>\n",
       "      <th>43</th>\n",
       "      <td>released</td>\n",
       "      <td>0.050173</td>\n",
       "    </tr>\n",
       "    <tr>\n",
       "      <th>19</th>\n",
       "      <td>group</td>\n",
       "      <td>0.050130</td>\n",
       "    </tr>\n",
       "    <tr>\n",
       "      <th>30</th>\n",
       "      <td>mccartney</td>\n",
       "      <td>0.049464</td>\n",
       "    </tr>\n",
       "    <tr>\n",
       "      <th>16</th>\n",
       "      <td>film</td>\n",
       "      <td>0.045840</td>\n",
       "    </tr>\n",
       "    <tr>\n",
       "      <th>33</th>\n",
       "      <td>new</td>\n",
       "      <td>0.041649</td>\n",
       "    </tr>\n",
       "    <tr>\n",
       "      <th>7</th>\n",
       "      <td>band</td>\n",
       "      <td>0.038203</td>\n",
       "    </tr>\n",
       "  </tbody>\n",
       "</table>\n",
       "</div>"
      ],
      "text/plain": [
       "         term    weight\n",
       "8     beatles  0.150009\n",
       "3       album  0.055008\n",
       "26     lennon  0.054275\n",
       "51      songs  0.051386\n",
       "43   released  0.050173\n",
       "19      group  0.050130\n",
       "30  mccartney  0.049464\n",
       "16       film  0.045840\n",
       "33        new  0.041649\n",
       "7        band  0.038203"
      ]
     },
     "execution_count": 10,
     "metadata": {},
     "output_type": "execute_result"
    }
   ],
   "source": [
    "# Show words in order of high weight\n",
    "weights_df.sort_values(by='weight',ascending=False).head(10)"
   ]
  },
  {
   "cell_type": "code",
   "execution_count": null,
   "metadata": {},
   "outputs": [],
   "source": []
  },
  {
   "cell_type": "code",
   "execution_count": null,
   "metadata": {},
   "outputs": [],
   "source": []
  },
  {
   "cell_type": "code",
   "execution_count": null,
   "metadata": {},
   "outputs": [],
   "source": []
  },
  {
   "cell_type": "code",
   "execution_count": null,
   "metadata": {},
   "outputs": [],
   "source": []
  },
  {
   "cell_type": "code",
   "execution_count": null,
   "metadata": {},
   "outputs": [],
   "source": []
  },
  {
   "cell_type": "code",
   "execution_count": null,
   "metadata": {},
   "outputs": [],
   "source": []
  }
 ],
 "metadata": {
  "kernelspec": {
   "display_name": "Python 3",
   "language": "python",
   "name": "python3"
  },
  "language_info": {
   "codemirror_mode": {
    "name": "ipython",
    "version": 3
   },
   "file_extension": ".py",
   "mimetype": "text/x-python",
   "name": "python",
   "nbconvert_exporter": "python",
   "pygments_lexer": "ipython3",
   "version": "3.7.3"
  }
 },
 "nbformat": 4,
 "nbformat_minor": 2
}
