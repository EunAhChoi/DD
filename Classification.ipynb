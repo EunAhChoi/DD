{
 "cells": [
  {
   "cell_type": "code",
   "execution_count": 1,
   "metadata": {},
   "outputs": [],
   "source": [
    "import numpy as np\n",
    "import seaborn as sns\n",
    "import matplotlib.pyplot as plt\n",
    "import pandas as pd\n",
    "import csv\n",
    "from sklearn.model_selection import train_test_split, KFold, cross_val_score, GridSearchCV\n",
    "from sklearn.preprocessing import MinMaxScaler\n",
    "from sklearn.model_selection import KFold \n",
    "from sklearn.model_selection import GridSearchCV \n",
    "from sklearn.linear_model import LogisticRegression \n",
    "from sklearn.svm import SVC\n",
    "from sklearn.tree import DecisionTreeClassifier\n",
    "import warnings\n",
    "warnings.filterwarnings(action=\"ignore\")\n",
    "%matplotlib inline\n"
   ]
  },
  {
   "cell_type": "code",
   "execution_count": 2,
   "metadata": {},
   "outputs": [
    {
     "data": {
      "text/html": [
       "<div>\n",
       "<style scoped>\n",
       "    .dataframe tbody tr th:only-of-type {\n",
       "        vertical-align: middle;\n",
       "    }\n",
       "\n",
       "    .dataframe tbody tr th {\n",
       "        vertical-align: top;\n",
       "    }\n",
       "\n",
       "    .dataframe thead th {\n",
       "        text-align: right;\n",
       "    }\n",
       "</style>\n",
       "<table border=\"1\" class=\"dataframe\">\n",
       "  <thead>\n",
       "    <tr style=\"text-align: right;\">\n",
       "      <th></th>\n",
       "      <th>age</th>\n",
       "      <th>sex</th>\n",
       "      <th>cp</th>\n",
       "      <th>trestbps</th>\n",
       "      <th>chol</th>\n",
       "      <th>fbs</th>\n",
       "      <th>restecg</th>\n",
       "      <th>thalach</th>\n",
       "      <th>exang</th>\n",
       "      <th>oldpeak</th>\n",
       "      <th>slope</th>\n",
       "      <th>ca</th>\n",
       "      <th>thal</th>\n",
       "      <th>target</th>\n",
       "    </tr>\n",
       "  </thead>\n",
       "  <tbody>\n",
       "    <tr>\n",
       "      <th>0</th>\n",
       "      <td>63</td>\n",
       "      <td>1</td>\n",
       "      <td>3</td>\n",
       "      <td>145</td>\n",
       "      <td>233</td>\n",
       "      <td>1</td>\n",
       "      <td>0</td>\n",
       "      <td>150</td>\n",
       "      <td>0</td>\n",
       "      <td>2.3</td>\n",
       "      <td>0</td>\n",
       "      <td>0</td>\n",
       "      <td>1</td>\n",
       "      <td>1</td>\n",
       "    </tr>\n",
       "    <tr>\n",
       "      <th>1</th>\n",
       "      <td>37</td>\n",
       "      <td>1</td>\n",
       "      <td>2</td>\n",
       "      <td>130</td>\n",
       "      <td>250</td>\n",
       "      <td>0</td>\n",
       "      <td>1</td>\n",
       "      <td>187</td>\n",
       "      <td>0</td>\n",
       "      <td>3.5</td>\n",
       "      <td>0</td>\n",
       "      <td>0</td>\n",
       "      <td>2</td>\n",
       "      <td>1</td>\n",
       "    </tr>\n",
       "    <tr>\n",
       "      <th>2</th>\n",
       "      <td>41</td>\n",
       "      <td>0</td>\n",
       "      <td>1</td>\n",
       "      <td>130</td>\n",
       "      <td>204</td>\n",
       "      <td>0</td>\n",
       "      <td>0</td>\n",
       "      <td>172</td>\n",
       "      <td>0</td>\n",
       "      <td>1.4</td>\n",
       "      <td>2</td>\n",
       "      <td>0</td>\n",
       "      <td>2</td>\n",
       "      <td>1</td>\n",
       "    </tr>\n",
       "    <tr>\n",
       "      <th>3</th>\n",
       "      <td>56</td>\n",
       "      <td>1</td>\n",
       "      <td>1</td>\n",
       "      <td>120</td>\n",
       "      <td>236</td>\n",
       "      <td>0</td>\n",
       "      <td>1</td>\n",
       "      <td>178</td>\n",
       "      <td>0</td>\n",
       "      <td>0.8</td>\n",
       "      <td>2</td>\n",
       "      <td>0</td>\n",
       "      <td>2</td>\n",
       "      <td>1</td>\n",
       "    </tr>\n",
       "    <tr>\n",
       "      <th>4</th>\n",
       "      <td>57</td>\n",
       "      <td>0</td>\n",
       "      <td>0</td>\n",
       "      <td>120</td>\n",
       "      <td>354</td>\n",
       "      <td>0</td>\n",
       "      <td>1</td>\n",
       "      <td>163</td>\n",
       "      <td>1</td>\n",
       "      <td>0.6</td>\n",
       "      <td>2</td>\n",
       "      <td>0</td>\n",
       "      <td>2</td>\n",
       "      <td>1</td>\n",
       "    </tr>\n",
       "  </tbody>\n",
       "</table>\n",
       "</div>"
      ],
      "text/plain": [
       "   age  sex  cp  trestbps  chol  fbs  restecg  thalach  exang  oldpeak  slope  \\\n",
       "0   63    1   3       145   233    1        0      150      0      2.3      0   \n",
       "1   37    1   2       130   250    0        1      187      0      3.5      0   \n",
       "2   41    0   1       130   204    0        0      172      0      1.4      2   \n",
       "3   56    1   1       120   236    0        1      178      0      0.8      2   \n",
       "4   57    0   0       120   354    0        1      163      1      0.6      2   \n",
       "\n",
       "   ca  thal  target  \n",
       "0   0     1       1  \n",
       "1   0     2       1  \n",
       "2   0     2       1  \n",
       "3   0     2       1  \n",
       "4   0     2       1  "
      ]
     },
     "execution_count": 2,
     "metadata": {},
     "output_type": "execute_result"
    }
   ],
   "source": [
    "# read data\n",
    "df = pd.read_csv('heart.csv', encoding=\"cp949\")\n",
    "df.head()"
   ]
  },
  {
   "cell_type": "code",
   "execution_count": 3,
   "metadata": {},
   "outputs": [
    {
     "name": "stdout",
     "output_type": "stream",
     "text": [
      "<class 'pandas.core.frame.DataFrame'>\n",
      "RangeIndex: 303 entries, 0 to 302\n",
      "Data columns (total 14 columns):\n",
      "age         303 non-null int64\n",
      "sex         303 non-null int64\n",
      "cp          303 non-null int64\n",
      "trestbps    303 non-null int64\n",
      "chol        303 non-null int64\n",
      "fbs         303 non-null int64\n",
      "restecg     303 non-null int64\n",
      "thalach     303 non-null int64\n",
      "exang       303 non-null int64\n",
      "oldpeak     303 non-null float64\n",
      "slope       303 non-null int64\n",
      "ca          303 non-null int64\n",
      "thal        303 non-null int64\n",
      "target      303 non-null int64\n",
      "dtypes: float64(1), int64(13)\n",
      "memory usage: 33.2 KB\n"
     ]
    }
   ],
   "source": [
    "# Check the dataa type\n",
    "df.info()"
   ]
  },
  {
   "cell_type": "code",
   "execution_count": 4,
   "metadata": {},
   "outputs": [
    {
     "data": {
      "text/plain": [
       "age         0\n",
       "sex         0\n",
       "cp          0\n",
       "trestbps    0\n",
       "chol        0\n",
       "fbs         0\n",
       "restecg     0\n",
       "thalach     0\n",
       "exang       0\n",
       "oldpeak     0\n",
       "slope       0\n",
       "ca          0\n",
       "thal        0\n",
       "target      0\n",
       "dtype: int64"
      ]
     },
     "execution_count": 4,
     "metadata": {},
     "output_type": "execute_result"
    }
   ],
   "source": [
    "# Check the missing data\n",
    "df.isnull().sum()"
   ]
  },
  {
   "cell_type": "code",
   "execution_count": 5,
   "metadata": {},
   "outputs": [
    {
     "data": {
      "text/plain": [
       "array([[<matplotlib.axes._subplots.AxesSubplot object at 0x0000029186553F28>,\n",
       "        <matplotlib.axes._subplots.AxesSubplot object at 0x000002918BC4B358>,\n",
       "        <matplotlib.axes._subplots.AxesSubplot object at 0x000002918BC738D0>,\n",
       "        <matplotlib.axes._subplots.AxesSubplot object at 0x000002918BC9EE48>],\n",
       "       [<matplotlib.axes._subplots.AxesSubplot object at 0x000002918BCCE400>,\n",
       "        <matplotlib.axes._subplots.AxesSubplot object at 0x000002918BCF3978>,\n",
       "        <matplotlib.axes._subplots.AxesSubplot object at 0x000002918BD1CE10>,\n",
       "        <matplotlib.axes._subplots.AxesSubplot object at 0x000002918BD4C400>],\n",
       "       [<matplotlib.axes._subplots.AxesSubplot object at 0x000002918BD4C438>,\n",
       "        <matplotlib.axes._subplots.AxesSubplot object at 0x000002918BD9CEB8>,\n",
       "        <matplotlib.axes._subplots.AxesSubplot object at 0x000002918BDCD470>,\n",
       "        <matplotlib.axes._subplots.AxesSubplot object at 0x000002918BDF39E8>],\n",
       "       [<matplotlib.axes._subplots.AxesSubplot object at 0x000002918BE1AF60>,\n",
       "        <matplotlib.axes._subplots.AxesSubplot object at 0x000002918BE4B518>,\n",
       "        <matplotlib.axes._subplots.AxesSubplot object at 0x000002918BE71A90>,\n",
       "        <matplotlib.axes._subplots.AxesSubplot object at 0x000002918BEA2048>]],\n",
       "      dtype=object)"
      ]
     },
     "execution_count": 5,
     "metadata": {},
     "output_type": "execute_result"
    },
    {
     "data": {
      "image/png": "[encoded data removed]",
      "text/plain": [
       "<Figure size 1080x1080 with 16 Axes>"
      ]
     },
     "metadata": {
      "needs_background": "light"
     },
     "output_type": "display_data"
    }
   ],
   "source": [
    "# Check the data distribution\n",
    "df.hist(figsize=(15,15))"
   ]
  },
  {
   "cell_type": "code",
   "execution_count": 6,
   "metadata": {},
   "outputs": [],
   "source": [
    "# Scaling (except categorical data)\n",
    "scaler = MinMaxScaler()\n",
    "\n",
    "# Category data found through the above distribution (to except)\n",
    "columns_to_scale = ['age', 'trestbps', 'chol', 'thalach', 'oldpeak']\n",
    "df[columns_to_scale] = scaler.fit_transform(df[columns_to_scale])"
   ]
  },
  {
   "cell_type": "code",
   "execution_count": 7,
   "metadata": {},
   "outputs": [],
   "source": [
    "# one hot encoding \n",
    "columns_to_dummies = ['cp','ca', 'thal','slope', 'restecg']\n",
    "df[columns_to_dummies] = df[columns_to_dummies].astype('object')\n",
    "one_hot_columns = pd.get_dummies(df[columns_to_dummies])\n",
    "df = df.drop(columns_to_dummies,axis = 1)\n",
    "df = df.join(one_hot_columns)"
   ]
  },
  {
   "cell_type": "code",
   "execution_count": 8,
   "metadata": {},
   "outputs": [
    {
     "name": "stdout",
     "output_type": "stream",
     "text": [
      "(303, 28)\n"
     ]
    },
    {
     "data": {
      "text/html": [
       "<div>\n",
       "<style scoped>\n",
       "    .dataframe tbody tr th:only-of-type {\n",
       "        vertical-align: middle;\n",
       "    }\n",
       "\n",
       "    .dataframe tbody tr th {\n",
       "        vertical-align: top;\n",
       "    }\n",
       "\n",
       "    .dataframe thead th {\n",
       "        text-align: right;\n",
       "    }\n",
       "</style>\n",
       "<table border=\"1\" class=\"dataframe\">\n",
       "  <thead>\n",
       "    <tr style=\"text-align: right;\">\n",
       "      <th></th>\n",
       "      <th>age</th>\n",
       "      <th>sex</th>\n",
       "      <th>trestbps</th>\n",
       "      <th>chol</th>\n",
       "      <th>fbs</th>\n",
       "      <th>thalach</th>\n",
       "      <th>exang</th>\n",
       "      <th>oldpeak</th>\n",
       "      <th>target</th>\n",
       "      <th>cp_0</th>\n",
       "      <th>...</th>\n",
       "      <th>thal_0</th>\n",
       "      <th>thal_1</th>\n",
       "      <th>thal_2</th>\n",
       "      <th>thal_3</th>\n",
       "      <th>slope_0</th>\n",
       "      <th>slope_1</th>\n",
       "      <th>slope_2</th>\n",
       "      <th>restecg_0</th>\n",
       "      <th>restecg_1</th>\n",
       "      <th>restecg_2</th>\n",
       "    </tr>\n",
       "  </thead>\n",
       "  <tbody>\n",
       "    <tr>\n",
       "      <th>0</th>\n",
       "      <td>0.708333</td>\n",
       "      <td>1</td>\n",
       "      <td>0.481132</td>\n",
       "      <td>0.244292</td>\n",
       "      <td>1</td>\n",
       "      <td>0.603053</td>\n",
       "      <td>0</td>\n",
       "      <td>0.370968</td>\n",
       "      <td>1</td>\n",
       "      <td>0</td>\n",
       "      <td>...</td>\n",
       "      <td>0</td>\n",
       "      <td>1</td>\n",
       "      <td>0</td>\n",
       "      <td>0</td>\n",
       "      <td>1</td>\n",
       "      <td>0</td>\n",
       "      <td>0</td>\n",
       "      <td>1</td>\n",
       "      <td>0</td>\n",
       "      <td>0</td>\n",
       "    </tr>\n",
       "    <tr>\n",
       "      <th>1</th>\n",
       "      <td>0.166667</td>\n",
       "      <td>1</td>\n",
       "      <td>0.339623</td>\n",
       "      <td>0.283105</td>\n",
       "      <td>0</td>\n",
       "      <td>0.885496</td>\n",
       "      <td>0</td>\n",
       "      <td>0.564516</td>\n",
       "      <td>1</td>\n",
       "      <td>0</td>\n",
       "      <td>...</td>\n",
       "      <td>0</td>\n",
       "      <td>0</td>\n",
       "      <td>1</td>\n",
       "      <td>0</td>\n",
       "      <td>1</td>\n",
       "      <td>0</td>\n",
       "      <td>0</td>\n",
       "      <td>0</td>\n",
       "      <td>1</td>\n",
       "      <td>0</td>\n",
       "    </tr>\n",
       "    <tr>\n",
       "      <th>2</th>\n",
       "      <td>0.250000</td>\n",
       "      <td>0</td>\n",
       "      <td>0.339623</td>\n",
       "      <td>0.178082</td>\n",
       "      <td>0</td>\n",
       "      <td>0.770992</td>\n",
       "      <td>0</td>\n",
       "      <td>0.225806</td>\n",
       "      <td>1</td>\n",
       "      <td>0</td>\n",
       "      <td>...</td>\n",
       "      <td>0</td>\n",
       "      <td>0</td>\n",
       "      <td>1</td>\n",
       "      <td>0</td>\n",
       "      <td>0</td>\n",
       "      <td>0</td>\n",
       "      <td>1</td>\n",
       "      <td>1</td>\n",
       "      <td>0</td>\n",
       "      <td>0</td>\n",
       "    </tr>\n",
       "    <tr>\n",
       "      <th>3</th>\n",
       "      <td>0.562500</td>\n",
       "      <td>1</td>\n",
       "      <td>0.245283</td>\n",
       "      <td>0.251142</td>\n",
       "      <td>0</td>\n",
       "      <td>0.816794</td>\n",
       "      <td>0</td>\n",
       "      <td>0.129032</td>\n",
       "      <td>1</td>\n",
       "      <td>0</td>\n",
       "      <td>...</td>\n",
       "      <td>0</td>\n",
       "      <td>0</td>\n",
       "      <td>1</td>\n",
       "      <td>0</td>\n",
       "      <td>0</td>\n",
       "      <td>0</td>\n",
       "      <td>1</td>\n",
       "      <td>0</td>\n",
       "      <td>1</td>\n",
       "      <td>0</td>\n",
       "    </tr>\n",
       "    <tr>\n",
       "      <th>4</th>\n",
       "      <td>0.583333</td>\n",
       "      <td>0</td>\n",
       "      <td>0.245283</td>\n",
       "      <td>0.520548</td>\n",
       "      <td>0</td>\n",
       "      <td>0.702290</td>\n",
       "      <td>1</td>\n",
       "      <td>0.096774</td>\n",
       "      <td>1</td>\n",
       "      <td>1</td>\n",
       "      <td>...</td>\n",
       "      <td>0</td>\n",
       "      <td>0</td>\n",
       "      <td>1</td>\n",
       "      <td>0</td>\n",
       "      <td>0</td>\n",
       "      <td>0</td>\n",
       "      <td>1</td>\n",
       "      <td>0</td>\n",
       "      <td>1</td>\n",
       "      <td>0</td>\n",
       "    </tr>\n",
       "  </tbody>\n",
       "</table>\n",
       "<p>5 rows × 28 columns</p>\n",
       "</div>"
      ],
      "text/plain": [
       "        age  sex  trestbps      chol  fbs   thalach  exang   oldpeak  target  \\\n",
       "0  0.708333    1  0.481132  0.244292    1  0.603053      0  0.370968       1   \n",
       "1  0.166667    1  0.339623  0.283105    0  0.885496      0  0.564516       1   \n",
       "2  0.250000    0  0.339623  0.178082    0  0.770992      0  0.225806       1   \n",
       "3  0.562500    1  0.245283  0.251142    0  0.816794      0  0.129032       1   \n",
       "4  0.583333    0  0.245283  0.520548    0  0.702290      1  0.096774       1   \n",
       "\n",
       "   cp_0  ...  thal_0  thal_1  thal_2  thal_3  slope_0  slope_1  slope_2  \\\n",
       "0     0  ...       0       1       0       0        1        0        0   \n",
       "1     0  ...       0       0       1       0        1        0        0   \n",
       "2     0  ...       0       0       1       0        0        0        1   \n",
       "3     0  ...       0       0       1       0        0        0        1   \n",
       "4     1  ...       0       0       1       0        0        0        1   \n",
       "\n",
       "   restecg_0  restecg_1  restecg_2  \n",
       "0          1          0          0  \n",
       "1          0          1          0  \n",
       "2          1          0          0  \n",
       "3          0          1          0  \n",
       "4          0          1          0  \n",
       "\n",
       "[5 rows x 28 columns]"
      ]
     },
     "execution_count": 8,
     "metadata": {},
     "output_type": "execute_result"
    }
   ],
   "source": [
    "print(df.shape)\n",
    "df.head()"
   ]
  },
  {
   "cell_type": "code",
   "execution_count": 9,
   "metadata": {},
   "outputs": [],
   "source": [
    "##############################################################"
   ]
  },
  {
   "cell_type": "code",
   "execution_count": 10,
   "metadata": {},
   "outputs": [],
   "source": [
    "# split the label\n",
    "y = df[['target']]\n",
    "X = df.drop(['target'],axis =1)"
   ]
  },
  {
   "cell_type": "code",
   "execution_count": 11,
   "metadata": {},
   "outputs": [],
   "source": [
    "# function to draw confusion matrix\n",
    "# parameters: y_Acture, y_Predicted\n",
    "\n",
    "def draw_confusion_matrix(y_test,y_pred):\n",
    "    result= pd.DataFrame()\n",
    "\n",
    "    result['y_test']= y_test['target']\n",
    "    result['y_pred']= y_pred\n",
    "\n",
    "    confusion_matrix = pd.crosstab(result['y_test'], result['y_pred'], margins=True)\n",
    "    sns.heatmap(confusion_matrix, annot=True)\n",
    "    \n",
    "    return"
   ]
  },
  {
   "cell_type": "code",
   "execution_count": 12,
   "metadata": {},
   "outputs": [],
   "source": [
    "# k fold cross validation and get average score\n",
    "# parameters: X, y, model to run, confusion (True: draw confusion, False: skip drawing)\n",
    "# return: 10-fold average score\n",
    "def kfold_score (X,y,model, confusion = False):\n",
    "    \n",
    "    scores =[]\n",
    "    kfold = KFold(n_splits=10, shuffle=True, random_state=42) \n",
    "    max_score = 0\n",
    "    \n",
    "    # do k-fold\n",
    "    for train, test in kfold.split(X,y):       \n",
    "        # training the model\n",
    "        model.fit(X.iloc[train,:], y.iloc[train,:])       \n",
    "        # get accuracy\n",
    "        score = model.score(X.iloc[test,:], y.iloc[test,:]) \n",
    "        scores.append(score)\n",
    "        \n",
    "        # Store the best score of the 10 folds\n",
    "        if confusion ==True:\n",
    "            # save max score\n",
    "            if max_score < score:\n",
    "                max_score = score\n",
    "                max_model = model\n",
    "                max_X_test = X.iloc[test,:]\n",
    "                max_y_test = y.iloc[test,:]\n",
    "        \n",
    "    \n",
    "    # draw the confusion matrix and return average score\n",
    "    if confusion == True:\n",
    "        max_y_pred = max_model.predict(max_X_test)\n",
    "        draw_confusion_matrix (max_y_test,max_y_pred)\n",
    "        print('When score:', max_score)\n",
    "        print('Average score(10-fold):', np.mean(scores))\n",
    "        return np.mean(scores)\n",
    "        \n",
    "    # print the average score\n",
    "    print('Average score(10-fold):', np.mean(scores))\n",
    "\n",
    "    return"
   ]
  },
  {
   "cell_type": "code",
   "execution_count": 13,
   "metadata": {},
   "outputs": [],
   "source": [
    "# make classifier and get 10-fold average score"
   ]
  },
  {
   "cell_type": "code",
   "execution_count": 14,
   "metadata": {},
   "outputs": [
    {
     "name": "stdout",
     "output_type": "stream",
     "text": [
      "Average score(10-fold): 0.8484946236559139\n"
     ]
    }
   ],
   "source": [
    "# Model 1: Logistic Regression\n",
    "logistic = LogisticRegression()\n",
    "kfold_score(X,y,logistic)"
   ]
  },
  {
   "cell_type": "code",
   "execution_count": 15,
   "metadata": {},
   "outputs": [
    {
     "name": "stdout",
     "output_type": "stream",
     "text": [
      "Average score(10-fold): 0.7294623655913978\n"
     ]
    }
   ],
   "source": [
    "# Model 2:Decision Tree\n",
    "dtree = DecisionTreeClassifier()\n",
    "kfold_score(X,y,dtree)"
   ]
  },
  {
   "cell_type": "code",
   "execution_count": 16,
   "metadata": {},
   "outputs": [
    {
     "name": "stdout",
     "output_type": "stream",
     "text": [
      "Average score(10-fold): 0.8613978494623655\n"
     ]
    }
   ],
   "source": [
    "# Model 3: SVM\n",
    "svm = SVC()\n",
    "kfold_score(X,y,svm)"
   ]
  },
  {
   "cell_type": "code",
   "execution_count": 17,
   "metadata": {},
   "outputs": [],
   "source": [
    "##################################### Try various parameters\n",
    "bestScores = {'model': ['logistic',' decisionTree','svm'], 'acc': []}\n",
    "bestParmas = {'logistic':[], 'decisionTree':[], 'svm':[]}"
   ]
  },
  {
   "cell_type": "code",
   "execution_count": 18,
   "metadata": {},
   "outputs": [],
   "source": [
    "#################### Model 1: Logistic Regression ######################"
   ]
  },
  {
   "cell_type": "code",
   "execution_count": 19,
   "metadata": {},
   "outputs": [
    {
     "name": "stdout",
     "output_type": "stream",
     "text": [
      "Average score(10-fold): 0.8484946236559139\n"
     ]
    }
   ],
   "source": [
    "# First, Tune the solver\n",
    "param_logistic = LogisticRegression (solver ='liblinear')\n",
    "kfold_score(X,y,param_logistic)"
   ]
  },
  {
   "cell_type": "code",
   "execution_count": 20,
   "metadata": {},
   "outputs": [
    {
     "name": "stdout",
     "output_type": "stream",
     "text": [
      "Average score(10-fold): 0.8418279569892473\n"
     ]
    }
   ],
   "source": [
    "param_logistic = LogisticRegression (solver ='lbfgs')\n",
    "kfold_score(X,y,param_logistic)"
   ]
  },
  {
   "cell_type": "code",
   "execution_count": 21,
   "metadata": {},
   "outputs": [
    {
     "name": "stdout",
     "output_type": "stream",
     "text": [
      "Average score(10-fold): 0.8418279569892473\n"
     ]
    }
   ],
   "source": [
    "param_logistic = LogisticRegression (solver ='sag')\n",
    "kfold_score(X,y,param_logistic)"
   ]
  },
  {
   "cell_type": "code",
   "execution_count": 22,
   "metadata": {},
   "outputs": [],
   "source": [
    "# Set Solver = liblinear\n",
    "# Second, Tune the max_iter"
   ]
  },
  {
   "cell_type": "code",
   "execution_count": 23,
   "metadata": {},
   "outputs": [
    {
     "name": "stdout",
     "output_type": "stream",
     "text": [
      "Average score(10-fold): 0.8484946236559139\n"
     ]
    }
   ],
   "source": [
    "param_logistic = LogisticRegression (solver ='liblinear', max_iter =50)\n",
    "kfold_score(X,y,param_logistic)"
   ]
  },
  {
   "cell_type": "code",
   "execution_count": 24,
   "metadata": {},
   "outputs": [
    {
     "name": "stdout",
     "output_type": "stream",
     "text": [
      "Average score(10-fold): 0.8484946236559139\n"
     ]
    }
   ],
   "source": [
    "param_logistic = LogisticRegression (solver ='liblinear', max_iter = 100)\n",
    "kfold_score(X,y,param_logistic)"
   ]
  },
  {
   "cell_type": "code",
   "execution_count": 25,
   "metadata": {},
   "outputs": [
    {
     "name": "stdout",
     "output_type": "stream",
     "text": [
      "Average score(10-fold): 0.8484946236559139\n"
     ]
    }
   ],
   "source": [
    "param_logistic = LogisticRegression (solver ='liblinear', max_iter = 200)\n",
    "kfold_score(X,y,param_logistic)"
   ]
  },
  {
   "cell_type": "code",
   "execution_count": 26,
   "metadata": {},
   "outputs": [
    {
     "name": "stdout",
     "output_type": "stream",
     "text": [
      "When score: 0.967741935483871\n",
      "Average score(10-fold): 0.8484946236559139\n"
     ]
    },
    {
     "data": {
      "image/png": "[encoded data removed]",
      "text/plain": [
       "<Figure size 432x288 with 2 Axes>"
      ]
     },
     "metadata": {
      "needs_background": "light"
     },
     "output_type": "display_data"
    }
   ],
   "source": [
    "# Set solver = liblinear, max_iter = 50\n",
    "# get maximum score and draw confusion matrix\n",
    "param_logistic = LogisticRegression (solver ='liblinear', max_iter = 50)\n",
    "acc = kfold_score(X,y,param_logistic, True)\n",
    "\n",
    "# save model's score\n",
    "bestScores['acc'].append(acc)"
   ]
  },
  {
   "cell_type": "code",
   "execution_count": 27,
   "metadata": {},
   "outputs": [],
   "source": [
    "#################### Model 2: Decision Tree ######################"
   ]
  },
  {
   "cell_type": "code",
   "execution_count": 28,
   "metadata": {},
   "outputs": [
    {
     "name": "stdout",
     "output_type": "stream",
     "text": [
      "Average score(10-fold): 0.7293548387096773\n"
     ]
    }
   ],
   "source": [
    "# Tune the criterion\n",
    "param_dtree = DecisionTreeClassifier (criterion ='gini')\n",
    "kfold_score(X,y,param_dtree)"
   ]
  },
  {
   "cell_type": "code",
   "execution_count": 29,
   "metadata": {},
   "outputs": [
    {
     "name": "stdout",
     "output_type": "stream",
     "text": [
      "Average score(10-fold): 0.7126881720430107\n"
     ]
    }
   ],
   "source": [
    "param_dtree = DecisionTreeClassifier (criterion ='entropy')\n",
    "kfold_score(X,y,param_dtree)"
   ]
  },
  {
   "cell_type": "code",
   "execution_count": 30,
   "metadata": {},
   "outputs": [
    {
     "name": "stdout",
     "output_type": "stream",
     "text": [
      "When score: 0.8064516129032258\n",
      "Average score(10-fold): 0.7226881720430107\n"
     ]
    },
    {
     "data": {
      "image/png": "[encoded data removed]",
      "text/plain": [
       "<Figure size 432x288 with 2 Axes>"
      ]
     },
     "metadata": {
      "needs_background": "light"
     },
     "output_type": "display_data"
    }
   ],
   "source": [
    "# Set criterion = gini\n",
    "# get maximum score and draw confusion matrix\n",
    "param_dtree = DecisionTreeClassifier (criterion ='gini')\n",
    "acc = kfold_score(X,y,param_dtree, True)\n",
    "\n",
    "# save model score\n",
    "bestScores['acc'].append(acc)"
   ]
  },
  {
   "cell_type": "code",
   "execution_count": 31,
   "metadata": {},
   "outputs": [],
   "source": [
    "#################### Model 3: svm ######################"
   ]
  },
  {
   "cell_type": "code",
   "execution_count": 32,
   "metadata": {},
   "outputs": [
    {
     "name": "stdout",
     "output_type": "stream",
     "text": [
      "Average score(10-fold): 0.8547311827956989\n"
     ]
    }
   ],
   "source": [
    "# First, Tune the C\n",
    "param_svm = SVC (C = 0.1)\n",
    "kfold_score(X,y,param_svm)"
   ]
  },
  {
   "cell_type": "code",
   "execution_count": 33,
   "metadata": {},
   "outputs": [
    {
     "name": "stdout",
     "output_type": "stream",
     "text": [
      "Average score(10-fold): 0.8613978494623655\n"
     ]
    }
   ],
   "source": [
    "param_svm = SVC (C = 1.0)\n",
    "kfold_score(X,y,param_svm)"
   ]
  },
  {
   "cell_type": "code",
   "execution_count": 34,
   "metadata": {},
   "outputs": [
    {
     "name": "stdout",
     "output_type": "stream",
     "text": [
      "Average score(10-fold): 0.828494623655914\n"
     ]
    }
   ],
   "source": [
    "param_svm = SVC (C = 10.0)\n",
    "kfold_score(X,y,param_svm)"
   ]
  },
  {
   "cell_type": "code",
   "execution_count": 35,
   "metadata": {},
   "outputs": [],
   "source": [
    "# Set the C = 1.0\n",
    "# Second, tune the kernel"
   ]
  },
  {
   "cell_type": "code",
   "execution_count": 36,
   "metadata": {},
   "outputs": [
    {
     "name": "stdout",
     "output_type": "stream",
     "text": [
      "Average score(10-fold): 0.8449462365591399\n"
     ]
    }
   ],
   "source": [
    "param_svm = SVC (C = 1.0, kernel = 'linear')\n",
    "kfold_score(X,y,param_svm)"
   ]
  },
  {
   "cell_type": "code",
   "execution_count": 37,
   "metadata": {},
   "outputs": [
    {
     "name": "stdout",
     "output_type": "stream",
     "text": [
      "Average score(10-fold): 0.5741935483870966\n"
     ]
    }
   ],
   "source": [
    "param_svm = SVC (C = 1.0, kernel = 'poly')\n",
    "kfold_score(X,y,param_svm)"
   ]
  },
  {
   "cell_type": "code",
   "execution_count": 38,
   "metadata": {},
   "outputs": [
    {
     "name": "stdout",
     "output_type": "stream",
     "text": [
      "Average score(10-fold): 0.8613978494623655\n"
     ]
    }
   ],
   "source": [
    "param_svm = SVC (C = 1.0, kernel = 'rbf')\n",
    "kfold_score(X,y,param_svm)"
   ]
  },
  {
   "cell_type": "code",
   "execution_count": 39,
   "metadata": {},
   "outputs": [
    {
     "name": "stdout",
     "output_type": "stream",
     "text": [
      "Average score(10-fold): 0.8482795698924731\n"
     ]
    }
   ],
   "source": [
    "param_svm = SVC (C = 1.0, kernel = 'sigmoid')\n",
    "kfold_score(X,y,param_svm)"
   ]
  },
  {
   "cell_type": "code",
   "execution_count": 40,
   "metadata": {},
   "outputs": [],
   "source": [
    "# Set the C = 1.0, kernel ='rbf'\n",
    "# Third, tune the kernel"
   ]
  },
  {
   "cell_type": "code",
   "execution_count": 41,
   "metadata": {},
   "outputs": [
    {
     "name": "stdout",
     "output_type": "stream",
     "text": [
      "Average score(10-fold): 0.6732258064516129\n"
     ]
    }
   ],
   "source": [
    "param_svm = SVC (C = 1.0, kernel = 'rbf', gamma = 10)\n",
    "kfold_score(X,y,param_svm)"
   ]
  },
  {
   "cell_type": "code",
   "execution_count": 42,
   "metadata": {},
   "outputs": [
    {
     "name": "stdout",
     "output_type": "stream",
     "text": [
      "Average score(10-fold): 0.5444086021505375\n"
     ]
    }
   ],
   "source": [
    "param_svm = SVC (C = 1.0, kernel = 'rbf', gamma = 100)\n",
    "kfold_score(X,y,param_svm)"
   ]
  },
  {
   "cell_type": "code",
   "execution_count": 43,
   "metadata": {},
   "outputs": [
    {
     "name": "stdout",
     "output_type": "stream",
     "text": [
      "When score: 0.967741935483871\n",
      "Average score(10-fold): 0.8613978494623655\n"
     ]
    },
    {
     "data": {
      "image/png": "[encoded data removed]",
      "text/plain": [
       "<Figure size 432x288 with 2 Axes>"
      ]
     },
     "metadata": {
      "needs_background": "light"
     },
     "output_type": "display_data"
    }
   ],
   "source": [
    "# Set the C = 1.0, kernel ='rbf'\n",
    "# get maximum score and draw confusion matrix\n",
    "param_svm = SVC (C = 1.0, kernel = 'rbf')\n",
    "acc = kfold_score(X,y,param_svm, True)\n",
    "\n",
    "# save model score\n",
    "bestScores['acc'].append(acc)"
   ]
  },
  {
   "cell_type": "code",
   "execution_count": 44,
   "metadata": {},
   "outputs": [
    {
     "data": {
      "text/plain": [
       "{'model': ['logistic', ' decisionTree', 'svm'],\n",
       " 'acc': [0.8484946236559139, 0.7226881720430107, 0.8613978494623655]}"
      ]
     },
     "execution_count": 44,
     "metadata": {},
     "output_type": "execute_result"
    }
   ],
   "source": [
    "bestScores"
   ]
  },
  {
   "cell_type": "code",
   "execution_count": 45,
   "metadata": {},
   "outputs": [],
   "source": [
    "############################## draw bar chart"
   ]
  },
  {
   "cell_type": "code",
   "execution_count": 46,
   "metadata": {},
   "outputs": [
    {
     "data": {
      "image/png": "[encoded data removed]",
      "text/plain": [
       "<Figure size 432x288 with 1 Axes>"
      ]
     },
     "metadata": {
      "needs_background": "light"
     },
     "output_type": "display_data"
    }
   ],
   "source": [
    "plt.title ('classification')\n",
    "plt.bar(bestScores['model'], bestScores['acc'], color = [(0.8,0,0), (0,0.8,0), (0,0,0.8)])\n",
    "plt.show()"
   ]
  },
  {
   "cell_type": "code",
   "execution_count": null,
   "metadata": {},
   "outputs": [],
   "source": []
  }
 ],
 "metadata": {
  "kernelspec": {
   "display_name": "Python 3",
   "language": "python",
   "name": "python3"
  },
  "language_info": {
   "codemirror_mode": {
    "name": "ipython",
    "version": 3
   },
   "file_extension": ".py",
   "mimetype": "text/x-python",
   "name": "python",
   "nbconvert_exporter": "python",
   "pygments_lexer": "ipython3",
   "version": "3.7.3"
  }
 },
 "nbformat": 4,
 "nbformat_minor": 2
}
