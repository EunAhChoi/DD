{
 "cells": [
  {
   "cell_type": "code",
   "execution_count": null,
   "metadata": {},
   "outputs": [],
   "source": [
    "import numpy as np\n",
    "import pandas as pd\n",
    "import csv"
   ]
  },
  {
   "cell_type": "code",
   "execution_count": null,
   "metadata": {},
   "outputs": [],
   "source": [
    "# read data\n",
    "df = pd.read_csv(\"mushrooms.csv\", encoding='cp949')\n",
    "df = df.iloc[0:20,0:10]\n",
    "df.head()"
   ]
  },
  {
   "cell_type": "code",
   "execution_count": null,
   "metadata": {},
   "outputs": [],
   "source": [
    "# n_clusters :클러스터 개수\n",
    "# n_init : 초기 중심값 시도 횟수\n",
    "# max_iter : 최대 반복 횟수\n",
    "# random_state : 시드값 "
   ]
  },
  {
   "cell_type": "code",
   "execution_count": null,
   "metadata": {},
   "outputs": [],
   "source": [
    "# 예외\n",
    "\n",
    "# numpy배열일 때 >> pandas로 바꾸고 시작 \n",
    "# Cluster에 값이 하나도 없을 때 "
   ]
  },
  {
   "cell_type": "code",
   "execution_count": null,
   "metadata": {},
   "outputs": [],
   "source": [
    "# 구현해야될 기능1\n",
    "# inpurt:  vector, DataFrame\n",
    "# output: distance\n",
    "\n",
    "# vector하나랑 DataFrame과의 DIstance구하기\n",
    "# vector의 값을 빼내서 column만큼 반복해서 distance구하기"
   ]
  },
  {
   "cell_type": "code",
   "execution_count": null,
   "metadata": {},
   "outputs": [],
   "source": [
    "def distanceForSame(cluster,col, instance_value):\n",
    "    if (len(cluster) == 0):\n",
    "        return 0\n",
    "\n",
    "    frequency = len(cluster[cluster[col] == instance_value]) + 1\n",
    "    total_num = len(cluster) + 1\n",
    "\n",
    "    return 1-(frequency/total_num)"
   ]
  },
  {
   "cell_type": "code",
   "execution_count": null,
   "metadata": {},
   "outputs": [],
   "source": [
    "# 클러스터 1개에 대해서 distance를 구하는 함수\n",
    "def getDistance(clusters, instance, c_num, distance):\n",
    "    # 해당 클러스터의 모드 벡터\n",
    "    mode_vector = mode_vectors[c_num]\n",
    "\n",
    "    for col in instance.index:\n",
    "        # 같으면 cluster를 참조해서 distance구하기 \n",
    "        if(mode_vector[col] == instance[col]):\n",
    "            same_dist =  distanceForSame(clusters[c_num], col, instance[col])\n",
    "            distance[c_num] = distance[c_num] + same_dist\n",
    "        # 다르면 distance는 1 \n",
    "        else:\n",
    "            distance[c_num] = distance[c_num] + 1\n",
    "\n",
    "    #print(distance)\n",
    "    return distance"
   ]
  },
  {
   "cell_type": "code",
   "execution_count": null,
   "metadata": {},
   "outputs": [],
   "source": [
    "# 가장 작은 distance의 index를 구해줌\n",
    "# 고려사항: distance가 같을 경우 >> 크기가 작은 클러스터로?\n",
    "def getMinIndex (distance_list):\n",
    "    min_value = min(distance_list)\n",
    "    return distance_list.index(min_value)"
   ]
  },
  {
   "cell_type": "code",
   "execution_count": null,
   "metadata": {},
   "outputs": [],
   "source": [
    "# 가장 작은 distance의 index를 구해줌\n",
    "# 고려사항: distance가 같을 경우 >> 크기가 작은 클러스터로?\n",
    "def getMinIndex (distance_list):\n",
    "    min_value = min(distance_list)\n",
    "    return distance_list.index(min_value)"
   ]
  },
  {
   "cell_type": "code",
   "execution_count": null,
   "metadata": {},
   "outputs": [],
   "source": [
    "# 모드벡터 업데이트\n",
    "def updateModeVector(index, clusters, mode_vectors):\n",
    "    mode_vectors[index] = clusters[index].mode().loc[0]\n",
    "    return mode_vectors"
   ]
  },
  {
   "cell_type": "code",
   "execution_count": null,
   "metadata": {},
   "outputs": [],
   "source": [
    "#######################################################"
   ]
  },
  {
   "cell_type": "code",
   "execution_count": null,
   "metadata": {},
   "outputs": [],
   "source": [
    "clusters"
   ]
  },
  {
   "cell_type": "code",
   "execution_count": null,
   "metadata": {},
   "outputs": [],
   "source": [
    "def saveState(clusters):\n",
    "    state = []\n",
    "    for i in range(len(clusters)):\n",
    "        state.append(clusters[i].index)\n",
    "    return state"
   ]
  },
  {
   "cell_type": "code",
   "execution_count": null,
   "metadata": {},
   "outputs": [],
   "source": [
    "temp = state.copy()\n",
    "temp"
   ]
  },
  {
   "cell_type": "code",
   "execution_count": null,
   "metadata": {},
   "outputs": [],
   "source": [
    "def compareState (prev, curr):\n",
    "    cluster_num = len(prev)\n",
    "    \n",
    "    # 클러스터의 총 개수가 다를 경우\n",
    "    if(cluster_num != len(curr)):\n",
    "        return False\n",
    "    \n",
    "    \n",
    "    for k in range(cluster_num):\n",
    "        # 클러스터안의 값 개수가 같을 경우\n",
    "        if (len(prev[k]) != len(curr[k])):\n",
    "            return False\n",
    "        \n",
    "        if all(prev[k]!=curr[k]):\n",
    "            return False\n",
    "            \n",
    "    return True"
   ]
  },
  {
   "cell_type": "code",
   "execution_count": null,
   "metadata": {},
   "outputs": [],
   "source": [
    "def doKModeAlgorithm(initclusters, initdistance,max_iter,distance,mode_vectors):\n",
    "    distance = initdistance.copy()\n",
    "\n",
    "    \n",
    "    prev_state = []\n",
    "\n",
    "    ## max_iter까지 반복하거나 state가 같을 때 \n",
    "    for iteration in range(max_iter):\n",
    "        clusters = initclusters.copy()\n",
    "        # Iterate\n",
    "        \n",
    "        # 각 instance를 가까운 클러스터에 할당 \n",
    "        for instance_index in range(len(df)):\n",
    "\n",
    "            instance = df.loc[instance_index]\n",
    "\n",
    "            # 각 클러스터에 대한 distance를 구함 \n",
    "            for i in range(len(clusters)):\n",
    "                distance = getDistance(clusters,instance, i, distance)\n",
    "   \n",
    "            min_index = getMinIndex(distance)\n",
    "            distance = initdistance.copy()\n",
    "\n",
    "            # 해당 클러스터에 추가 \n",
    "            clusters[min_index] = clusters[min_index].append(instance)\n",
    "      \n",
    "            # 모드벡터 업데이트\n",
    "            mode_vectors = updateModeVector(min_index, clusters, mode_vectors)\n",
    "        # curr_state랑 비교하고 update하기 \n",
    "    \n",
    "        curr_state = saveState(clusters)\n",
    "        #print(prev_state)\n",
    "        #print(curr_state)\n",
    "        if(compareState(prev_state, curr_state)==True):\n",
    "            print(\"Converge! Finish!\")\n",
    "            print(\"Stop \", iteration)\n",
    "            break\n",
    "        \n",
    "        prev_state = curr_state\n",
    "        \n",
    "        \n",
    "    return clusters"
   ]
  },
  {
   "cell_type": "code",
   "execution_count": null,
   "metadata": {},
   "outputs": [],
   "source": [
    "# 초기 선언\n",
    "\n",
    "# 파라미터 1: n_clusters\n",
    "k = 4\n",
    "\n",
    "# 파마리터 \n",
    "initial_cluster = [0,2,4,15]\n",
    "\n",
    "# 초기 모드 벡터 \n",
    "mode_vectors =[]\n",
    "for i in initial_cluster:\n",
    "    mode_vectors.append(df.loc[i])\n",
    "\n",
    "initclusters =[]\n",
    "initdistance = []\n",
    "\n",
    "for i in range(k):\n",
    "    initclusters.append(pd.DataFrame(columns = df.columns))\n",
    "    initdistance.append(0)\n",
    "\n",
    "clusters = initclusters.copy()\n",
    "distance = initdistance.copy()\n",
    "max_iter = 10\n"
   ]
  },
  {
   "cell_type": "code",
   "execution_count": null,
   "metadata": {},
   "outputs": [],
   "source": [
    "clusters[1]"
   ]
  },
  {
   "cell_type": "code",
   "execution_count": null,
   "metadata": {},
   "outputs": [],
   "source": [
    "clusters[2]"
   ]
  },
  {
   "cell_type": "code",
   "execution_count": null,
   "metadata": {},
   "outputs": [],
   "source": [
    "mode_vectors"
   ]
  },
  {
   "cell_type": "code",
   "execution_count": null,
   "metadata": {},
   "outputs": [],
   "source": [
    "# Mode vector 업데이트"
   ]
  },
  {
   "cell_type": "code",
   "execution_count": null,
   "metadata": {},
   "outputs": [],
   "source": [
    "# distance값 + mode vector의 index?를 함께 저장\n",
    "# 가장 적은 distance를 구함 \n",
    "\n",
    "# vector를 가장 적은 distance의 Cluster에 추가하기!\n",
    "# 새로운 Mode vector 생성\n",
    "\n",
    "# 고려사항:\n",
    "# distance가 같을 경우 >> 크기가 작은 클러스터로?"
   ]
  },
  {
   "cell_type": "code",
   "execution_count": null,
   "metadata": {},
   "outputs": [],
   "source": [
    "# 클러스터가 변함이 없는지 확인\n",
    "# 변함 없으면 cluster 종료!"
   ]
  },
  {
   "cell_type": "code",
   "execution_count": null,
   "metadata": {},
   "outputs": [],
   "source": []
  },
  {
   "cell_type": "code",
   "execution_count": null,
   "metadata": {},
   "outputs": [],
   "source": []
  },
  {
   "cell_type": "code",
   "execution_count": null,
   "metadata": {},
   "outputs": [],
   "source": []
  },
  {
   "cell_type": "code",
   "execution_count": null,
   "metadata": {},
   "outputs": [],
   "source": []
  },
  {
   "cell_type": "code",
   "execution_count": null,
   "metadata": {},
   "outputs": [],
   "source": []
  },
  {
   "cell_type": "code",
   "execution_count": null,
   "metadata": {},
   "outputs": [],
   "source": []
  },
  {
   "cell_type": "code",
   "execution_count": null,
   "metadata": {},
   "outputs": [],
   "source": []
  }
 ],
 "metadata": {
  "kernelspec": {
   "display_name": "Python 3",
   "language": "python",
   "name": "python3"
  },
  "language_info": {
   "codemirror_mode": {
    "name": "ipython",
    "version": 3
   },
   "file_extension": ".py",
   "mimetype": "text/x-python",
   "name": "python",
   "nbconvert_exporter": "python",
   "pygments_lexer": "ipython3",
   "version": "3.7.3"
  }
 },
 "nbformat": 4,
 "nbformat_minor": 2
}
